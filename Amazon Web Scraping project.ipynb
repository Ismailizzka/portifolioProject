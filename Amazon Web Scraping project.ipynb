{
 "cells": [
  {
   "cell_type": "code",
   "execution_count": 1,
   "id": "f86481fe",
   "metadata": {},
   "outputs": [],
   "source": [
    "# import libaries\n",
    "\n",
    "from bs4 import BeautifulSoup\n",
    "import requests\n",
    "from selenium import webdriver\n",
    "from selenium.webdriver.chrome.service import Service\n",
    "import time\n",
    "import datetime\n",
    "import smtplib"
   ]
  },
  {
   "cell_type": "code",
   "execution_count": 2,
   "id": "eb3e0ba3",
   "metadata": {},
   "outputs": [
    {
     "name": "stdout",
     "output_type": "stream",
     "text": [
      "3.9.12\n"
     ]
    }
   ],
   "source": [
    "from platform import python_version\n",
    "print(python_version())\n",
    "\n"
   ]
  },
  {
   "cell_type": "code",
   "execution_count": 3,
   "id": "69c2c964",
   "metadata": {},
   "outputs": [
    {
     "name": "stdout",
     "output_type": "stream",
     "text": [
      "\n",
      "                   Hanes Mens Beefyt T-Shirt, Classic Heavyweight Cotton Crewneck Tee, Roomy Fit, 1 Or 2 Pack, Available in Tall\n",
      "                  \n"
     ]
    }
   ],
   "source": [
    "# Connect to Website and pull in data  -- sometimes this doesnt work becuase the website denies the acccess to the info so we need to switch to selenium library.\n",
    "\n",
    "URL = 'https://www.amazon.com/Hanes-Short-Sleeve-Beefy-T-Smoke/dp/B01KNM3EAM/ref=sr_1_4?crid=5ZT2DA0EILMA&keywords=t+shirts+for+man&qid=1692275014&sprefix=t+s%2Caps%2C422&sr=8-4'\n",
    "\n",
    "headers = {\"User-Agent\": \"Mozilla/5.0 (Windows NT 10.0; Win64; x64) AppleWebKit/537.36 (KHTML, like Gecko) Chrome/78.0.3904.108 Safari/537.36\", \"Accept-Encoding\":\"gzip, deflate\", \"Accept\":\"text/html,application/xhtml+xml,application/xml;q=0.9,*/*;q=0.8\", \"DNT\":\"1\",\"Connection\":\"close\", \"Upgrade-Insecure-Requests\":\"1\"}\n",
    "\n",
    "page = requests.get(URL, headers=headers)\n",
    "\n",
    "soup1 = BeautifulSoup(page.content, \"html.parser\")\n",
    "\n",
    "soup2 = BeautifulSoup(soup1.prettify(), \"html.parser\")\n",
    "\n",
    "title = soup2.find(id='productTitle').get_text()\n",
    "\n",
    "print(title)"
   ]
  },
  {
   "cell_type": "code",
   "execution_count": 4,
   "id": "9a7c54ba",
   "metadata": {
    "scrolled": true
   },
   "outputs": [
    {
     "name": "stdout",
     "output_type": "stream",
     "text": [
      "Kindle Oasis Essentials Bundle including Kindle Oasis (Graphite, Ad-Supported), Amazon Leather Cover, and Power Adapter\n",
      "$319.97\n"
     ]
    }
   ],
   "source": [
    "from selenium import webdriver\n",
    "from selenium.webdriver.chrome.service import Service\n",
    "\n",
    "URL = 'https://www.amazon.com/All-new-Essentials-including-Graphite-Amazon/dp/B07RQNBBL8/ref=nav_signin?_encoding=UTF8&content-id=amzn1.sym.b9deb6fa-f7f0-4f9b-bfa0-824f28f79589&keywords=Kindle+E-readers&pd_rd_r=8fe4002e-ab60-4e59-9d89-ebc510fbd9d4&pd_rd_w=XDP4P&pd_rd_wg=UtXvQ&pf_rd_p=b9deb6fa-f7f0-4f9b-bfa0-824f28f79589&pf_rd_r=BRY1PR42FN2A7ZAXBJ3W&qid=1692387103&sr=8-1'\n",
    "chrome_driver_path = r'C:\\Users\\ismai\\Downloads\\chromedriver_win32\\chromedriver'\n",
    "\n",
    "chrome_options = webdriver.ChromeOptions()\n",
    "chrome_options.add_argument(\"--headless\")\n",
    "\n",
    "driver = webdriver.Chrome(executable_path=chrome_driver_path, options=chrome_options)\n",
    "driver.get(URL)\n",
    "\n",
    "product_title_element = driver.find_element_by_xpath('//*[@id=\"title\"]')\n",
    "product_title = product_title_element.text\n",
    "\n",
    "product_price_element = driver.find_element_by_xpath('//span[@class=\"a-price a-text-price a-size-medium apexPriceToPay\"]')\n",
    "product_price = product_price_element.text\n",
    "print(product_title)\n",
    "print(product_price)\n",
    "\n",
    "#browser.find_element_by_xpath('//div[@class=\"product-landing-container\"]')\n"
   ]
  },
  {
   "cell_type": "code",
   "execution_count": 5,
   "id": "df0630d5",
   "metadata": {},
   "outputs": [],
   "source": [
    "import datetime \n",
    "\n",
    "today = datetime.date.today()"
   ]
  },
  {
   "cell_type": "code",
   "execution_count": 6,
   "id": "14c6414d",
   "metadata": {},
   "outputs": [],
   "source": [
    "import csv \n",
    "header = ['Title', 'Price', 'Date']\n",
    "data = [product_title, product_price, today]\n",
    "\n",
    "with open('AmazonwebScraperDataset.csv', 'w', newline='', encoding='UTF8') as f:\n",
    "\n",
    "   writer = csv.writer(f)\n",
    "   writer.writerow(header)\n",
    "   writer.writerow(data)\n"
   ]
  },
  {
   "cell_type": "code",
   "execution_count": 7,
   "id": "04d8a2c5",
   "metadata": {},
   "outputs": [
    {
     "name": "stdout",
     "output_type": "stream",
     "text": [
      "                                               Title    Price        Date\n",
      "0  Kindle Oasis Essentials Bundle including Kindl...  $319.97  2023-08-19\n"
     ]
    }
   ],
   "source": [
    "import pandas as pd\n",
    "\n",
    "df = pd.read_csv(r\"C:\\Users\\ismai\\AmazonwebScraperDataset.csv\")\n",
    "\n",
    "print(df)"
   ]
  },
  {
   "cell_type": "code",
   "execution_count": 13,
   "id": "4ec1054c",
   "metadata": {},
   "outputs": [],
   "source": [
    "# now let's append the data to the csv\n",
    "\n",
    "with open('AmazonwebScraperDataset.csv', 'a+', newline='', encoding='UTF8') as f:\n",
    "\n",
    "   writer = csv.writer(f)\n",
    "   writer.writerow(data)\n"
   ]
  },
  {
   "cell_type": "code",
   "execution_count": 14,
   "id": "be00dc70",
   "metadata": {},
   "outputs": [
    {
     "name": "stdout",
     "output_type": "stream",
     "text": [
      "                                               Title    Price        Date\n",
      "0  Kindle Oasis Essentials Bundle including Kindl...  $319.97  2023-08-19\n",
      "1  Kindle Oasis Essentials Bundle including Kindl...  $319.97  2023-08-19\n",
      "2  Kindle Oasis Essentials Bundle including Kindl...  $319.97  2023-08-19\n",
      "3  Kindle Oasis Essentials Bundle including Kindl...  $319.97  2023-08-19\n",
      "4  Kindle Oasis Essentials Bundle including Kindl...  $319.97  2023-08-19\n"
     ]
    }
   ],
   "source": [
    "import pandas as pd\n",
    "\n",
    "df = pd.read_csv(r\"C:\\Users\\ismai\\AmazonwebScraperDataset.csv\")\n",
    "\n",
    "print(df)"
   ]
  },
  {
   "cell_type": "code",
   "execution_count": null,
   "id": "ac4745c7",
   "metadata": {},
   "outputs": [],
   "source": [
    "# let's automate the whole process\n",
    "\n",
    "def check_price():\n",
    "    URL = 'https://www.amazon.com/All-new-Essentials-including-Graphite-Amazon/dp/B07RQNBBL8/ref=nav_signin?_encoding=UTF8&content-id=amzn1.sym.b9deb6fa-f7f0-4f9b-bfa0-824f28f79589&keywords=Kindle+E-readers&pd_rd_r=8fe4002e-ab60-4e59-9d89-ebc510fbd9d4&pd_rd_w=XDP4P&pd_rd_wg=UtXvQ&pf_rd_p=b9deb6fa-f7f0-4f9b-bfa0-824f28f79589&pf_rd_r=BRY1PR42FN2A7ZAXBJ3W&qid=1692387103&sr=8-1'\n",
    "    chrome_driver_path = r'C:\\Users\\ismai\\Downloads\\chromedriver_win32\\chromedriver'\n",
    "\n",
    "    chrome_options = webdriver.ChromeOptions()\n",
    "    chrome_options.add_argument(\"--headless\")\n",
    "\n",
    "    driver = webdriver.Chrome(executable_path=chrome_driver_path, options=chrome_options)\n",
    "    driver.get(URL)\n",
    "\n",
    "    product_title_element = driver.find_element_by_xpath('//*[@id=\"title\"]')\n",
    "    product_title = product_title_element.text\n",
    "\n",
    "    product_price_element = driver.find_element_by_xpath('//span[@class=\"a-price a-text-price a-size-medium apexPriceToPay\"]')\n",
    "    product_price = product_price_element.text\n",
    "    \n",
    "    import datetime \n",
    "\n",
    "    today = datetime.date.today()\n",
    "    \n",
    "    import csv \n",
    "    header = ['Title', 'Price', 'Date']\n",
    "    data = [product_title, product_price, today]\n",
    "\n",
    "    with open('AmazonwebScraperDataset.csv', 'a+', newline='', encoding='UTF8') as f:\n",
    "       writer = csv.writer(f)\n",
    "       writer.writerow(data)\n",
    "\n",
    "    if(Price < 250):\n",
    "        send_mail()\n",
    "    "
   ]
  },
  {
   "cell_type": "code",
   "execution_count": null,
   "id": "a95451ef",
   "metadata": {},
   "outputs": [],
   "source": [
    "while(True):\n",
    "    check_price()\n",
    "    time.sleep(86400) # 24 hrs"
   ]
  },
  {
   "cell_type": "code",
   "execution_count": 16,
   "id": "ef3189f6",
   "metadata": {},
   "outputs": [
    {
     "name": "stdout",
     "output_type": "stream",
     "text": [
      "                                               Title    Price        Date\n",
      "0  Kindle Oasis Essentials Bundle including Kindl...  $319.97  2023-08-19\n",
      "1  Kindle Oasis Essentials Bundle including Kindl...  $319.97  2023-08-19\n",
      "2  Kindle Oasis Essentials Bundle including Kindl...  $319.97  2023-08-19\n",
      "3  Kindle Oasis Essentials Bundle including Kindl...  $319.97  2023-08-19\n",
      "4  Kindle Oasis Essentials Bundle including Kindl...  $319.97  2023-08-19\n",
      "5  Kindle Oasis Essentials Bundle including Kindl...  $319.97  2023-08-19\n",
      "6  Kindle Oasis Essentials Bundle including Kindl...  $319.97  2023-08-19\n"
     ]
    }
   ],
   "source": [
    "import pandas as pd\n",
    "\n",
    "df = pd.read_csv(r\"C:\\Users\\ismai\\AmazonwebScraperDataset.csv\")\n",
    "\n",
    "print(df)\n"
   ]
  },
  {
   "cell_type": "code",
   "execution_count": null,
   "id": "223c6152",
   "metadata": {},
   "outputs": [],
   "source": [
    "# if you want to recieve massage if the price goes below certain number you can do this\n",
    "\n",
    "def send_mail():\n",
    "    server = smtplib.SMTP_SSL('smtp.gmail.com',465)\n",
    "    server.ehlo()\n",
    "    server.ehlo()\n",
    "    server.login('ismailabdikdir@gmail.com','xxxxxxxxxxxxxx')\n",
    "    \n",
    "    subject = \"The Kindle Oasis you want is below $250! Now is your chance to buy!\"\n",
    "    body = \"Ismail, This is the moment we have been waiting for. Now is your chance to pick up the kindle of your dreams. Don't mess it up! Link here: https://www.amazon.com/All-new-Essentials-including-Graphite-Amazon/dp/B07RQNBBL8/ref=nav_signin?_encoding=UTF8&content-id=amzn1.sym.b9deb6fa-f7f0-4f9b-bfa0-824f28f79589&keywords=Kindle+E-readers&pd_rd_r=8fe4002e-ab60-4e59-9d89-ebc510fbd9d4&pd_rd_w=XDP4P&pd_rd_wg=UtXvQ&pf_rd_p=b9deb6fa-f7f0-4f9b-bfa0-824f28f79589&pf_rd_r=BRY1PR42FN2A7ZAXBJ3W&qid=1692387103&sr=8-1\n",
    "    msg = f\"Subject: {subject}\\n\\n{body}\"\n",
    "    \n",
    "    server.sendmail(\n",
    "        'ismailabdikdir@gmail.com',\n",
    "        msg\n",
    "     \n",
    "    )"
   ]
  },
  {
   "cell_type": "code",
   "execution_count": null,
   "id": "1ab52aec",
   "metadata": {},
   "outputs": [],
   "source": []
  }
 ],
 "metadata": {
  "kernelspec": {
   "display_name": "Python 3 (ipykernel)",
   "language": "python",
   "name": "python3"
  },
  "language_info": {
   "codemirror_mode": {
    "name": "ipython",
    "version": 3
   },
   "file_extension": ".py",
   "mimetype": "text/x-python",
   "name": "python",
   "nbconvert_exporter": "python",
   "pygments_lexer": "ipython3",
   "version": "3.9.12"
  }
 },
 "nbformat": 4,
 "nbformat_minor": 5
}
